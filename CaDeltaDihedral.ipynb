{
 "cells": [
  {
   "cell_type": "markdown",
   "id": "ae3b514a",
   "metadata": {},
   "source": [
    "[![Open In Colab](https://colab.research.google.com/assets/colab-badge.svg)](https://colab.research.google.com/github/basantab/DeltaDihedral/blob/main/CaDeltaDihedeal.ipynb)\n",
    "\n",
    "\n",
    "### Download requirements\n"
   ]
  },
  {
   "cell_type": "code",
   "execution_count": null,
   "id": "e7568fd9",
   "metadata": {},
   "outputs": [],
   "source": [
    "!pip install ProDy\n",
    "!pip install seaborn"
   ]
  },
  {
   "cell_type": "markdown",
   "id": "829eae47",
   "metadata": {},
   "source": [
    "### Calculate and plot values"
   ]
  },
  {
   "cell_type": "code",
   "execution_count": null,
   "id": "e0d61a33",
   "metadata": {},
   "outputs": [],
   "source": [
    "import prody as pd\n",
    "import matplotlib.pyplot as plt\n",
    "import seaborn as sns\n",
    "import numpy as np\n",
    "\n",
    "# Download PDB files from open and closed Ec MBP\n",
    "pdb1ANF = pd.fetchPDB('1ANF')\n",
    "pdb1OMP = pd.fetchPDB('1OMP')\n",
    "\n",
    "# Parse PDBs into prody opbjects\n",
    "obj1ANF =pd.parsePDB(pdb1ANF)\n",
    "obj1OMP =pd.parsePDB(pdb1OMP)\n",
    "\n",
    "# Get all Calpha atoms\n",
    "CA1OMP = obj1OMP.select('chain A and name CA')\n",
    "CA1ANF = obj1ANF.select('chain A and name CA')\n",
    "\n",
    "CA1OMP_dict = {r:i for i,r in enumerate(CA1OMP.getResnums())}\n",
    "CA1ANF_dict = {r:i for i,r in enumerate(CA1ANF.getResnums())}\n",
    "\n",
    "# Keep only residues in common in both structures\n",
    "common_res = np.intersect1d(CA1OMP.getResnums(),CA1ANF.getResnums())\n",
    "#print(common_res)\n",
    "\n",
    "\n",
    "def norm(ang):\n",
    "  '''This function normalizes delta angles the same way as Marvin et al'''\n",
    "  if ang >=-180 and ang <= 180: return ang\n",
    "  if ang > 180 : return 360 - ang\n",
    "  if ang < -180: return 360 + ang \n",
    "\n",
    "def get_dihedral_alaMarvin(pos,pdb):\n",
    "  '''This function calculates dihedral CA angles the same way as Marvin et al'''\n",
    "  return pd.calcDihedral(pdb[pos+2],pdb[pos+1],pdb[pos],pdb[pos-1])\n",
    "\n",
    "deltas = [] # We are going to store all dihedrals here while we loop below\n",
    "\n",
    "positions = np.array(common_res[1:-3]) # Because of how the dihedrals are calculated the first and two last residues don't have an assigned angle\n",
    "\n",
    "# Loop through positions and get the change in CA dihedral\n",
    "for pos in positions:\n",
    "  delta = get_dihedral_alaMarvin(CA1ANF_dict[pos],CA1ANF) - get_dihedral_alaMarvin(CA1OMP_dict[pos],CA1OMP)\n",
    "  #print(pos,norm(delta))\n",
    "  deltas.append(delta)\n",
    "\n",
    "# Plot results by position:\n",
    "sns.set(font_scale=1.5)\n",
    "plt.figure(figsize = (15,8))\n",
    "p = sns.regplot(x=positions, y=np.array([norm(i) for i in deltas]),fit_reg=False)\n",
    "p.set_xlabel(\"Amino acid\", fontsize = 20)\n",
    "p.set_ylabel(\"Change in Ca Dihedral (º)\", fontsize = 20)\n"
   ]
  },
  {
   "cell_type": "markdown",
   "id": "36fdafc7",
   "metadata": {},
   "source": [
    "### Print out values"
   ]
  },
  {
   "cell_type": "code",
   "execution_count": null,
   "id": "20a1eb04",
   "metadata": {},
   "outputs": [],
   "source": [
    "print(\"Position DihedralChange\")\n",
    "for i,j in zip(positions,[norm(i) for i in deltas]):\n",
    "  print(i,j)"
   ]
  },
  {
   "cell_type": "code",
   "execution_count": null,
   "id": "e82e5a0d",
   "metadata": {},
   "outputs": [],
   "source": []
  }
 ],
 "metadata": {
  "kernelspec": {
   "display_name": "Python 3",
   "language": "python",
   "name": "python3"
  },
  "language_info": {
   "codemirror_mode": {
    "name": "ipython",
    "version": 3
   },
   "file_extension": ".py",
   "mimetype": "text/x-python",
   "name": "python",
   "nbconvert_exporter": "python",
   "pygments_lexer": "ipython3",
   "version": "3.8.8"
  }
 },
 "nbformat": 4,
 "nbformat_minor": 5
}
